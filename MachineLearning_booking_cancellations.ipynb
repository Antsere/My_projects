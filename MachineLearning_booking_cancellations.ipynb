{
 "cells": [
  {
   "cell_type": "code",
   "execution_count": 83,
   "id": "b3d30157-a3f5-4800-84d4-513d58b4f3ab",
   "metadata": {},
   "outputs": [],
   "source": [
    "# Hotel booking analisys: In this analysis we are going to build a model which tries to predict in which cases a hotel booking will get cancelled."
   ]
  },
  {
   "cell_type": "code",
   "execution_count": 84,
   "id": "14eb0be1-a302-4aaf-b72e-a1843237d2ef",
   "metadata": {},
   "outputs": [],
   "source": [
    "#We are going to do so with open data from https://www.sciencedirect.com/science/article/pii/S2352340918315191. In this link you can find all the information about the data set."
   ]
  },
  {
   "cell_type": "code",
   "execution_count": 85,
   "id": "5930c75e-0f0e-4dee-a1da-e207d99b398b",
   "metadata": {},
   "outputs": [],
   "source": [
    "#First of all we open all the libraries which will be needed for our model\n",
    "from sklearn.tree import DecisionTreeClassifier, plot_tree\n",
    "from sklearn.model_selection import GridSearchCV, cross_val_score\n",
    "from sklearn.metrics import accuracy_score, confusion_matrix, classification_report\n",
    "from sklearn.model_selection import cross_val_predict\n",
    "from sklearn.model_selection import train_test_split\n",
    "from sklearn.preprocessing import StandardScaler, MinMaxScaler\n",
    "import matplotlib.ticker as ticker\n",
    "import pandas as pd\n",
    "import seaborn as sns\n",
    "import numpy as np\n",
    "import matplotlib.pyplot as plt\n",
    "from sklearn.preprocessing import LabelEncoder\n",
    "from sklearn.ensemble import RandomForestClassifier\n",
    "from sklearn.model_selection import train_test_split\n",
    "pd.set_option('display.max_columns', None)\n",
    "pd.set_option('display.max_rows', None)\n"
   ]
  },
  {
   "cell_type": "code",
   "execution_count": 86,
   "id": "35409310-5c71-4335-b7c4-cd241538f629",
   "metadata": {},
   "outputs": [
    {
     "data": {
      "text/html": [
       "<div>\n",
       "<style scoped>\n",
       "    .dataframe tbody tr th:only-of-type {\n",
       "        vertical-align: middle;\n",
       "    }\n",
       "\n",
       "    .dataframe tbody tr th {\n",
       "        vertical-align: top;\n",
       "    }\n",
       "\n",
       "    .dataframe thead th {\n",
       "        text-align: right;\n",
       "    }\n",
       "</style>\n",
       "<table border=\"1\" class=\"dataframe\">\n",
       "  <thead>\n",
       "    <tr style=\"text-align: right;\">\n",
       "      <th></th>\n",
       "      <th>hotel</th>\n",
       "      <th>is_canceled</th>\n",
       "      <th>lead_time</th>\n",
       "      <th>arrival_date_year</th>\n",
       "      <th>arrival_date_month</th>\n",
       "      <th>arrival_date_week_number</th>\n",
       "      <th>arrival_date_day_of_month</th>\n",
       "      <th>stays_in_weekend_nights</th>\n",
       "      <th>stays_in_week_nights</th>\n",
       "      <th>adults</th>\n",
       "      <th>children</th>\n",
       "      <th>babies</th>\n",
       "      <th>meal</th>\n",
       "      <th>country</th>\n",
       "      <th>market_segment</th>\n",
       "      <th>distribution_channel</th>\n",
       "      <th>is_repeated_guest</th>\n",
       "      <th>previous_cancellations</th>\n",
       "      <th>previous_bookings_not_canceled</th>\n",
       "      <th>reserved_room_type</th>\n",
       "      <th>assigned_room_type</th>\n",
       "      <th>booking_changes</th>\n",
       "      <th>deposit_type</th>\n",
       "      <th>agent</th>\n",
       "      <th>company</th>\n",
       "      <th>days_in_waiting_list</th>\n",
       "      <th>customer_type</th>\n",
       "      <th>adr</th>\n",
       "      <th>required_car_parking_spaces</th>\n",
       "      <th>total_of_special_requests</th>\n",
       "      <th>reservation_status</th>\n",
       "      <th>reservation_status_date</th>\n",
       "    </tr>\n",
       "  </thead>\n",
       "  <tbody>\n",
       "    <tr>\n",
       "      <th>0</th>\n",
       "      <td>Resort Hotel</td>\n",
       "      <td>0</td>\n",
       "      <td>342</td>\n",
       "      <td>2015</td>\n",
       "      <td>July</td>\n",
       "      <td>27</td>\n",
       "      <td>1</td>\n",
       "      <td>0</td>\n",
       "      <td>0</td>\n",
       "      <td>2</td>\n",
       "      <td>0.0</td>\n",
       "      <td>0</td>\n",
       "      <td>BB</td>\n",
       "      <td>PRT</td>\n",
       "      <td>Direct</td>\n",
       "      <td>Direct</td>\n",
       "      <td>0</td>\n",
       "      <td>0</td>\n",
       "      <td>0</td>\n",
       "      <td>C</td>\n",
       "      <td>C</td>\n",
       "      <td>3</td>\n",
       "      <td>No Deposit</td>\n",
       "      <td>NaN</td>\n",
       "      <td>NaN</td>\n",
       "      <td>0</td>\n",
       "      <td>Transient</td>\n",
       "      <td>0.0</td>\n",
       "      <td>0</td>\n",
       "      <td>0</td>\n",
       "      <td>Check-Out</td>\n",
       "      <td>7/1/2015</td>\n",
       "    </tr>\n",
       "    <tr>\n",
       "      <th>1</th>\n",
       "      <td>Resort Hotel</td>\n",
       "      <td>0</td>\n",
       "      <td>737</td>\n",
       "      <td>2015</td>\n",
       "      <td>July</td>\n",
       "      <td>27</td>\n",
       "      <td>1</td>\n",
       "      <td>0</td>\n",
       "      <td>0</td>\n",
       "      <td>2</td>\n",
       "      <td>0.0</td>\n",
       "      <td>0</td>\n",
       "      <td>BB</td>\n",
       "      <td>PRT</td>\n",
       "      <td>Direct</td>\n",
       "      <td>Direct</td>\n",
       "      <td>0</td>\n",
       "      <td>0</td>\n",
       "      <td>0</td>\n",
       "      <td>C</td>\n",
       "      <td>C</td>\n",
       "      <td>4</td>\n",
       "      <td>No Deposit</td>\n",
       "      <td>NaN</td>\n",
       "      <td>NaN</td>\n",
       "      <td>0</td>\n",
       "      <td>Transient</td>\n",
       "      <td>0.0</td>\n",
       "      <td>0</td>\n",
       "      <td>0</td>\n",
       "      <td>Check-Out</td>\n",
       "      <td>7/1/2015</td>\n",
       "    </tr>\n",
       "    <tr>\n",
       "      <th>2</th>\n",
       "      <td>Resort Hotel</td>\n",
       "      <td>0</td>\n",
       "      <td>7</td>\n",
       "      <td>2015</td>\n",
       "      <td>July</td>\n",
       "      <td>27</td>\n",
       "      <td>1</td>\n",
       "      <td>0</td>\n",
       "      <td>1</td>\n",
       "      <td>1</td>\n",
       "      <td>0.0</td>\n",
       "      <td>0</td>\n",
       "      <td>BB</td>\n",
       "      <td>GBR</td>\n",
       "      <td>Direct</td>\n",
       "      <td>Direct</td>\n",
       "      <td>0</td>\n",
       "      <td>0</td>\n",
       "      <td>0</td>\n",
       "      <td>A</td>\n",
       "      <td>C</td>\n",
       "      <td>0</td>\n",
       "      <td>No Deposit</td>\n",
       "      <td>NaN</td>\n",
       "      <td>NaN</td>\n",
       "      <td>0</td>\n",
       "      <td>Transient</td>\n",
       "      <td>75.0</td>\n",
       "      <td>0</td>\n",
       "      <td>0</td>\n",
       "      <td>Check-Out</td>\n",
       "      <td>7/2/2015</td>\n",
       "    </tr>\n",
       "    <tr>\n",
       "      <th>3</th>\n",
       "      <td>Resort Hotel</td>\n",
       "      <td>0</td>\n",
       "      <td>13</td>\n",
       "      <td>2015</td>\n",
       "      <td>July</td>\n",
       "      <td>27</td>\n",
       "      <td>1</td>\n",
       "      <td>0</td>\n",
       "      <td>1</td>\n",
       "      <td>1</td>\n",
       "      <td>0.0</td>\n",
       "      <td>0</td>\n",
       "      <td>BB</td>\n",
       "      <td>GBR</td>\n",
       "      <td>Corporate</td>\n",
       "      <td>Corporate</td>\n",
       "      <td>0</td>\n",
       "      <td>0</td>\n",
       "      <td>0</td>\n",
       "      <td>A</td>\n",
       "      <td>A</td>\n",
       "      <td>0</td>\n",
       "      <td>No Deposit</td>\n",
       "      <td>304.0</td>\n",
       "      <td>NaN</td>\n",
       "      <td>0</td>\n",
       "      <td>Transient</td>\n",
       "      <td>75.0</td>\n",
       "      <td>0</td>\n",
       "      <td>0</td>\n",
       "      <td>Check-Out</td>\n",
       "      <td>7/2/2015</td>\n",
       "    </tr>\n",
       "    <tr>\n",
       "      <th>4</th>\n",
       "      <td>Resort Hotel</td>\n",
       "      <td>0</td>\n",
       "      <td>14</td>\n",
       "      <td>2015</td>\n",
       "      <td>July</td>\n",
       "      <td>27</td>\n",
       "      <td>1</td>\n",
       "      <td>0</td>\n",
       "      <td>2</td>\n",
       "      <td>2</td>\n",
       "      <td>0.0</td>\n",
       "      <td>0</td>\n",
       "      <td>BB</td>\n",
       "      <td>GBR</td>\n",
       "      <td>Online TA</td>\n",
       "      <td>TA/TO</td>\n",
       "      <td>0</td>\n",
       "      <td>0</td>\n",
       "      <td>0</td>\n",
       "      <td>A</td>\n",
       "      <td>A</td>\n",
       "      <td>0</td>\n",
       "      <td>No Deposit</td>\n",
       "      <td>240.0</td>\n",
       "      <td>NaN</td>\n",
       "      <td>0</td>\n",
       "      <td>Transient</td>\n",
       "      <td>98.0</td>\n",
       "      <td>0</td>\n",
       "      <td>1</td>\n",
       "      <td>Check-Out</td>\n",
       "      <td>7/3/2015</td>\n",
       "    </tr>\n",
       "  </tbody>\n",
       "</table>\n",
       "</div>"
      ],
      "text/plain": [
       "          hotel  is_canceled  lead_time  arrival_date_year arrival_date_month  \\\n",
       "0  Resort Hotel            0        342               2015               July   \n",
       "1  Resort Hotel            0        737               2015               July   \n",
       "2  Resort Hotel            0          7               2015               July   \n",
       "3  Resort Hotel            0         13               2015               July   \n",
       "4  Resort Hotel            0         14               2015               July   \n",
       "\n",
       "   arrival_date_week_number  arrival_date_day_of_month  \\\n",
       "0                        27                          1   \n",
       "1                        27                          1   \n",
       "2                        27                          1   \n",
       "3                        27                          1   \n",
       "4                        27                          1   \n",
       "\n",
       "   stays_in_weekend_nights  stays_in_week_nights  adults  children  babies  \\\n",
       "0                        0                     0       2       0.0       0   \n",
       "1                        0                     0       2       0.0       0   \n",
       "2                        0                     1       1       0.0       0   \n",
       "3                        0                     1       1       0.0       0   \n",
       "4                        0                     2       2       0.0       0   \n",
       "\n",
       "  meal country market_segment distribution_channel  is_repeated_guest  \\\n",
       "0   BB     PRT         Direct               Direct                  0   \n",
       "1   BB     PRT         Direct               Direct                  0   \n",
       "2   BB     GBR         Direct               Direct                  0   \n",
       "3   BB     GBR      Corporate            Corporate                  0   \n",
       "4   BB     GBR      Online TA                TA/TO                  0   \n",
       "\n",
       "   previous_cancellations  previous_bookings_not_canceled reserved_room_type  \\\n",
       "0                       0                               0                  C   \n",
       "1                       0                               0                  C   \n",
       "2                       0                               0                  A   \n",
       "3                       0                               0                  A   \n",
       "4                       0                               0                  A   \n",
       "\n",
       "  assigned_room_type  booking_changes deposit_type  agent  company  \\\n",
       "0                  C                3   No Deposit    NaN      NaN   \n",
       "1                  C                4   No Deposit    NaN      NaN   \n",
       "2                  C                0   No Deposit    NaN      NaN   \n",
       "3                  A                0   No Deposit  304.0      NaN   \n",
       "4                  A                0   No Deposit  240.0      NaN   \n",
       "\n",
       "   days_in_waiting_list customer_type   adr  required_car_parking_spaces  \\\n",
       "0                     0     Transient   0.0                            0   \n",
       "1                     0     Transient   0.0                            0   \n",
       "2                     0     Transient  75.0                            0   \n",
       "3                     0     Transient  75.0                            0   \n",
       "4                     0     Transient  98.0                            0   \n",
       "\n",
       "   total_of_special_requests reservation_status reservation_status_date  \n",
       "0                          0          Check-Out                7/1/2015  \n",
       "1                          0          Check-Out                7/1/2015  \n",
       "2                          0          Check-Out                7/2/2015  \n",
       "3                          0          Check-Out                7/2/2015  \n",
       "4                          1          Check-Out                7/3/2015  "
      ]
     },
     "execution_count": 86,
     "metadata": {},
     "output_type": "execute_result"
    }
   ],
   "source": [
    "#OPENING THE DATA & DATA PRE-PROCESSING\n",
    "#dataframe = pd.read_csv('https://raw.githubusercontent.com/Antsere/My_projects/refs/heads/main/hotels.csv?token=GHSAT0AAAAAACYSO7VYK65CWWLSU45MA522ZYD55BQ')\n",
    "dataframe = pd.read_csv('https://raw.githubusercontent.com/kevinasyraf/find-it-2020-dac/master/hotel_bookings.csv')\n",
    "dataframe.head(5)"
   ]
  },
  {
   "cell_type": "code",
   "execution_count": 87,
   "id": "e158df42-47e5-4f02-a073-8e803d8f9db5",
   "metadata": {},
   "outputs": [],
   "source": [
    "# We have open the first 5 lines just to have a look to our data and see how it is organized. We go thorugh the data set explanation in\n",
    "# https://www.sciencedirect.com/science/article/pii/S2352340918315191 to have a better idea of the dataset."
   ]
  },
  {
   "cell_type": "code",
   "execution_count": 88,
   "id": "e591b156-b128-4133-b7e1-2cdd0f7aa352",
   "metadata": {},
   "outputs": [],
   "source": [
    "# Our goal will be to predict the column \"is_canceled\", that means, to predict which bookings wil be cancelled. This a a binary column,\n",
    "# 0 means not cancelled and 1 means cancelled."
   ]
  },
  {
   "cell_type": "code",
   "execution_count": 89,
   "id": "0502c36c-e893-4dd2-bf81-f593ac5b9ea1",
   "metadata": {},
   "outputs": [],
   "source": [
    "#Now lets run some checks to preprocess the data and make sure there are not missing values."
   ]
  },
  {
   "cell_type": "code",
   "execution_count": 90,
   "id": "a7e4b337-9e78-40b2-b117-531377067b85",
   "metadata": {},
   "outputs": [
    {
     "data": {
      "text/plain": [
       "(119390, 32)"
      ]
     },
     "execution_count": 90,
     "metadata": {},
     "output_type": "execute_result"
    }
   ],
   "source": [
    "dataframe.shape  #this formula tells us what is the size of our table (rows, columns)"
   ]
  },
  {
   "cell_type": "code",
   "execution_count": 91,
   "id": "0a12e831-25d5-4585-a52e-7d9856c176ac",
   "metadata": {},
   "outputs": [],
   "source": [
    "#formula to have an overview of the data type of our columns"
   ]
  },
  {
   "cell_type": "code",
   "execution_count": 92,
   "id": "15d54ffd-ea08-4fc4-9cee-813ee3120d80",
   "metadata": {},
   "outputs": [
    {
     "data": {
      "text/plain": [
       "hotel                              object\n",
       "is_canceled                         int64\n",
       "lead_time                           int64\n",
       "arrival_date_year                   int64\n",
       "arrival_date_month                 object\n",
       "arrival_date_week_number            int64\n",
       "arrival_date_day_of_month           int64\n",
       "stays_in_weekend_nights             int64\n",
       "stays_in_week_nights                int64\n",
       "adults                              int64\n",
       "children                          float64\n",
       "babies                              int64\n",
       "meal                               object\n",
       "country                            object\n",
       "market_segment                     object\n",
       "distribution_channel               object\n",
       "is_repeated_guest                   int64\n",
       "previous_cancellations              int64\n",
       "previous_bookings_not_canceled      int64\n",
       "reserved_room_type                 object\n",
       "assigned_room_type                 object\n",
       "booking_changes                     int64\n",
       "deposit_type                       object\n",
       "agent                             float64\n",
       "company                           float64\n",
       "days_in_waiting_list                int64\n",
       "customer_type                      object\n",
       "adr                               float64\n",
       "required_car_parking_spaces         int64\n",
       "total_of_special_requests           int64\n",
       "reservation_status                 object\n",
       "reservation_status_date            object\n",
       "dtype: object"
      ]
     },
     "execution_count": 92,
     "metadata": {},
     "output_type": "execute_result"
    }
   ],
   "source": [
    "dataframe.dtypes"
   ]
  },
  {
   "cell_type": "code",
   "execution_count": 93,
   "id": "ed824696-7419-4ed9-9bf1-809332761bc1",
   "metadata": {},
   "outputs": [],
   "source": [
    "# Those which are 'object' are columns which value is not a number. For a machine learning model we need all columns part of the model\n",
    "# to be columns with number as value. For that reason we will need to encode them, we will come later to that."
   ]
  },
  {
   "cell_type": "code",
   "execution_count": 94,
   "id": "bf94a95c-9859-466b-9620-35025bdbca10",
   "metadata": {},
   "outputs": [
    {
     "name": "stdout",
     "output_type": "stream",
     "text": [
      "hotel                                  0\n",
      "is_canceled                            0\n",
      "lead_time                              0\n",
      "arrival_date_year                      0\n",
      "arrival_date_month                     0\n",
      "arrival_date_week_number               0\n",
      "arrival_date_day_of_month              0\n",
      "stays_in_weekend_nights                0\n",
      "stays_in_week_nights                   0\n",
      "adults                                 0\n",
      "children                               4\n",
      "babies                                 0\n",
      "meal                                   0\n",
      "country                              488\n",
      "market_segment                         0\n",
      "distribution_channel                   0\n",
      "is_repeated_guest                      0\n",
      "previous_cancellations                 0\n",
      "previous_bookings_not_canceled         0\n",
      "reserved_room_type                     0\n",
      "assigned_room_type                     0\n",
      "booking_changes                        0\n",
      "deposit_type                           0\n",
      "agent                              16340\n",
      "company                           112593\n",
      "days_in_waiting_list                   0\n",
      "customer_type                          0\n",
      "adr                                    0\n",
      "required_car_parking_spaces            0\n",
      "total_of_special_requests              0\n",
      "reservation_status                     0\n",
      "reservation_status_date                0\n",
      "dtype: int64\n"
     ]
    }
   ],
   "source": [
    "#now lets check if we have missing values \n",
    "nullvalues = dataframe.isnull().sum()\n",
    "print(nullvalues)"
   ]
  },
  {
   "cell_type": "code",
   "execution_count": 95,
   "id": "aff42f8a-179e-40c3-af63-4ea5a302d9c9",
   "metadata": {},
   "outputs": [
    {
     "name": "stdout",
     "output_type": "stream",
     "text": [
      "children         4\n",
      "country        488\n",
      "agent        16340\n",
      "company     112593\n",
      "dtype: int64\n"
     ]
    }
   ],
   "source": [
    "#now lets reduce our output table to only the columns which have nullvalues for a clearer view\n",
    "columns_nullvalues = nullvalues[nullvalues > 0]\n",
    "print(columns_nullvalues)"
   ]
  },
  {
   "cell_type": "code",
   "execution_count": 96,
   "id": "63d34835-168b-4a40-9c63-a9d8b1bbbe7c",
   "metadata": {},
   "outputs": [],
   "source": [
    "#we have 4 columns with entries which are blank. Now we have to replace those blanks with data which will not distort the dataset.\n",
    "# For that, I like to see what are the distinct values of each columns, to have an idea of the inputs that each table brings to the dataset"
   ]
  },
  {
   "cell_type": "code",
   "execution_count": 97,
   "id": "148e2532-473b-4ce0-b0ec-c21a1be7ce03",
   "metadata": {},
   "outputs": [
    {
     "name": "stdout",
     "output_type": "stream",
     "text": [
      "     Column                                      Unique Values\n",
      "0  children                    [0.0, 1.0, 2.0, 10.0, 3.0, nan]\n",
      "1   country  [PRT, GBR, USA, ESP, IRL, FRA, nan, ROU, NOR, ...\n",
      "2     agent  [nan, 304.0, 240.0, 303.0, 15.0, 241.0, 8.0, 2...\n",
      "3   company  [nan, 110.0, 113.0, 270.0, 178.0, 240.0, 154.0...\n"
     ]
    }
   ],
   "source": [
    "\n",
    "columns_with_nulls = columns_nullvalues.index\n",
    "unique_values_list = []\n",
    "for col in columns_with_nulls:\n",
    "    unique_values_list.append((col, dataframe[col].unique()))\n",
    "unique_values_df = pd.DataFrame(unique_values_list, columns=['Column', 'Unique Values'])\n",
    "print(unique_values_df)"
   ]
  },
  {
   "cell_type": "code",
   "execution_count": 98,
   "id": "b112fd3d-3dee-4439-900d-3ea332917f24",
   "metadata": {},
   "outputs": [],
   "source": [
    "#For the purpose of the exercie and to show what are the diferents options to deal with Nan columns we are goint to take a diferent approach to each columsn\n"
   ]
  },
  {
   "cell_type": "code",
   "execution_count": 99,
   "id": "3fa994ac-6963-4888-a8eb-ae79424b72f7",
   "metadata": {},
   "outputs": [],
   "source": [
    "#Children : There are only 4 rows with Nan values, therefore we are going to replace the Nan values with 0, assuming the missing data means\n",
    "# that there was no children in that booking. We use the formula 'fillna' and we select which coumns and with whihc vlaue we want to replace it"
   ]
  },
  {
   "cell_type": "code",
   "execution_count": 100,
   "id": "5a71ab7a-07dc-43b6-a86c-05d641fb33df",
   "metadata": {},
   "outputs": [],
   "source": [
    "dataframe.fillna({'children': 0}, inplace=True)"
   ]
  },
  {
   "cell_type": "code",
   "execution_count": 101,
   "id": "dd17af07-19f0-4550-8c7c-322d47198a16",
   "metadata": {},
   "outputs": [],
   "source": [
    "# We run again the check which gives us the columns with nan values as output. Now children should not appear"
   ]
  },
  {
   "cell_type": "code",
   "execution_count": 102,
   "id": "33739dc5-25e7-421d-b1a1-70359fe1191c",
   "metadata": {},
   "outputs": [
    {
     "name": "stdout",
     "output_type": "stream",
     "text": [
      "country       488\n",
      "agent       16340\n",
      "company    112593\n",
      "dtype: int64\n"
     ]
    }
   ],
   "source": [
    "nullvalues = dataframe.isnull().sum()\n",
    "columns_nullvalues = nullvalues[nullvalues > 0]\n",
    "print(columns_nullvalues)"
   ]
  },
  {
   "cell_type": "code",
   "execution_count": 103,
   "id": "1dcfc87d-c7d3-414a-b082-c7de68487c54",
   "metadata": {},
   "outputs": [],
   "source": [
    "#good! 'children' column does not appear anymore. Our replacement of NA with 0 was succesfull"
   ]
  },
  {
   "cell_type": "code",
   "execution_count": 104,
   "id": "1e43d7a2-d4c3-45f1-b633-c21ac0ae939d",
   "metadata": {},
   "outputs": [],
   "source": [
    "# For the column country we are goin to replace the NAN values with the most frequent value of the column\n",
    "# you have to be careful when doing this approach, but for the seek of exercise we will do so, assuming that the missing values \n",
    "# belong to the most frequent one"
   ]
  },
  {
   "cell_type": "code",
   "execution_count": 105,
   "id": "85a01225-3c17-43ec-9c26-c40bc7496cfb",
   "metadata": {},
   "outputs": [
    {
     "name": "stdout",
     "output_type": "stream",
     "text": [
      "0    PRT\n",
      "Name: country, dtype: object\n"
     ]
    }
   ],
   "source": [
    "mode_country_column = dataframe['country'].mode()\n",
    "print(mode_country_column)"
   ]
  },
  {
   "cell_type": "code",
   "execution_count": 106,
   "id": "82a59a28-4511-4ae6-ba99-102bb182a4af",
   "metadata": {},
   "outputs": [],
   "source": [
    "# The mode value is \"PRT\" = Portugal, so we are going to replace the NaN values with \"PRT\"\n",
    "dataframe.fillna({'country': 'PRT'}, inplace=True)"
   ]
  },
  {
   "cell_type": "code",
   "execution_count": 107,
   "id": "39943391-6243-451b-bee3-fdcc42f0d77e",
   "metadata": {},
   "outputs": [
    {
     "name": "stdout",
     "output_type": "stream",
     "text": [
      "agent       16340\n",
      "company    112593\n",
      "dtype: int64\n"
     ]
    }
   ],
   "source": [
    "# we run again the NaN check\n",
    "nullvalues = dataframe.isnull().sum()\n",
    "columns_nullvalues = nullvalues[nullvalues > 0]\n",
    "print(columns_nullvalues)"
   ]
  },
  {
   "cell_type": "code",
   "execution_count": 108,
   "id": "b166aefb-ad68-4039-b1b1-cf995f830a7a",
   "metadata": {},
   "outputs": [],
   "source": [
    "# now the column country does not appear, this means our NaN -> \"PRT\" replacement was succesfull\n",
    "# For agent column we will keep the NaN values, just to prove that a machine learning model can work with Nan values. \n",
    "# althought ideally we should find a replacement to the NaN which makes sense and do not distort the data\n",
    "\n",
    "# For company, we see that there are 112k rows with NaN. As we saw at the begining the shape of te matrix is (119390, 32)\n",
    "#that means aprox 95% of the entries for that columns are NaN. Therefore, this columns brings nothing relevant to the dataset so we will delete it"
   ]
  },
  {
   "cell_type": "code",
   "execution_count": 109,
   "id": "42a83bdd-e571-42a3-888e-4e197bc13dcb",
   "metadata": {},
   "outputs": [
    {
     "data": {
      "text/plain": [
       "(119390, 31)"
      ]
     },
     "execution_count": 109,
     "metadata": {},
     "output_type": "execute_result"
    }
   ],
   "source": [
    "dataframe.drop(['company'], axis=1, inplace=True)\n",
    "dataframe.shape\n"
   ]
  },
  {
   "cell_type": "code",
   "execution_count": 110,
   "id": "dce3ce0f-316e-4edb-90a1-73a15d6b1b83",
   "metadata": {},
   "outputs": [
    {
     "name": "stdout",
     "output_type": "stream",
     "text": [
      "agent    16340\n",
      "dtype: int64\n"
     ]
    }
   ],
   "source": [
    "#Now our shape is (119390, 31) instead of 119390, 32, this means we have one column less so we deleted \"company\" succesfully\n",
    "#we run again the check\n",
    "nullvalues = dataframe.isnull().sum()\n",
    "columns_nullvalues = nullvalues[nullvalues > 0]\n",
    "print(columns_nullvalues)"
   ]
  },
  {
   "cell_type": "code",
   "execution_count": 111,
   "id": "f13d7cd0-d029-44fd-9715-afd70ac66578",
   "metadata": {},
   "outputs": [],
   "source": [
    "#now we have only agent as column with NaN, which we decided to have like that. Our first step of data cleaning is finished."
   ]
  },
  {
   "cell_type": "code",
   "execution_count": 112,
   "id": "aaefd92c-5478-4b4e-9f22-e2441a56f259",
   "metadata": {},
   "outputs": [
    {
     "name": "stdout",
     "output_type": "stream",
     "text": [
      "['Check-Out' 'Canceled' 'No-Show']\n"
     ]
    }
   ],
   "source": [
    "#Our aim is to predict \"is_cancelled\" and there is a column which is called \"reservation status\". It seems that bith contain the same information\n",
    "# if so, we will delete 'reservation status' to avoid duplicites\n",
    "unique_values_reservationstatus = dataframe['reservation_status'].unique()\n",
    "print(unique_values_reservationstatus)"
   ]
  },
  {
   "cell_type": "code",
   "execution_count": 113,
   "id": "ff37ae15-fada-4ee5-9a47-c8d7dbf07a6a",
   "metadata": {},
   "outputs": [],
   "source": [
    "#As we can see we have the same concept that we want to predict (cancelled / not cancelled ) only that the not cancelled is divided in two conceots\n",
    "# so we are going to delete this column and the one related to this one which is reservation_status_date"
   ]
  },
  {
   "cell_type": "code",
   "execution_count": 114,
   "id": "30ac3800-3d3c-4e7f-bc6f-fff09fa83b75",
   "metadata": {},
   "outputs": [
    {
     "data": {
      "text/plain": [
       "(119390, 29)"
      ]
     },
     "execution_count": 114,
     "metadata": {},
     "output_type": "execute_result"
    }
   ],
   "source": [
    "dataframe.drop(['reservation_status', 'reservation_status_date'], axis=1, inplace=True)\n",
    "dataframe.shape"
   ]
  },
  {
   "cell_type": "code",
   "execution_count": 115,
   "id": "d32dafd8-b16a-46dc-9c82-b04081d194da",
   "metadata": {},
   "outputs": [],
   "source": [
    "# So far we have done sense check columnwise, now lets do a sense check rowwise. \n",
    "# We want to see if there is some mistaken row, where there are 0 guest in the booking. That means, if the columnsum of adult + children + babies = 0"
   ]
  },
  {
   "cell_type": "code",
   "execution_count": 116,
   "id": "8c07ef1e-7459-4ee5-ba5b-598aa642d05e",
   "metadata": {},
   "outputs": [
    {
     "name": "stdout",
     "output_type": "stream",
     "text": [
      "[2224, 2409, 3181, 3684, 3708, 4127, 9376, 31765, 32029, 32827, 34849, 34855, 37459, 40392, 40922, 41020, 41056, 42452, 42591, 42871, 42934, 47166, 47180, 47444, 49264, 50701, 50702, 54025, 54037, 54047, 54093, 55809, 60651, 61244, 61245, 61249, 62967, 63796, 64782, 65907, 65908, 65909, 65910, 69668, 72967, 72968, 76620, 76985, 77001, 77003, 77447, 77998, 78257, 78586, 78672, 79077, 79807, 79808, 80072, 81481, 82264, 82265, 82266, 82267, 83506, 83810, 84198, 85490, 85491, 85539, 85931, 88017, 88327, 88328, 88439, 89359, 89360, 90930, 91428, 92814, 92962, 93204, 93320, 93397, 93753, 93754, 94769, 94821, 95544, 96599, 96648, 96810, 98045, 98046, 98492, 99260, 99338, 99774, 99880, 100273, 100487, 100563, 100780, 101329, 101399, 101401, 101794, 101804, 101805, 101957, 102008, 102054, 102055, 102129, 102150, 102155, 102157, 102185, 102258, 102296, 102319, 102611, 102710, 102805, 102812, 103264, 103317, 103714, 103961, 104145, 104231, 104516, 105106, 105185, 105630, 105726, 105728, 106556, 106561, 106562, 106570, 106647, 106706, 106833, 107026, 107027, 107033, 107154, 107157, 107510, 107543, 107594, 107676, 107977, 107992, 108233, 108234, 108235, 109038, 109945, 110280, 110301, 111027, 111042, 111406, 111531, 111709, 111710, 111980, 112471, 112558, 113188, 114583, 114908, 114911, 115029, 115091, 116251, 116534, 117087]\n",
      "the lenght of the list is:  180\n"
     ]
    }
   ],
   "source": [
    "columns_to_sum = ['adults','children','babies']\n",
    "index_ghost_bookings = dataframe[dataframe[columns_to_sum].sum(axis=1) == 0].index\n",
    "ghost_bookings_list = list(index_ghost_bookings)\n",
    "print(ghost_bookings_list)\n",
    "print(\"the lenght of the list is: \",len(ghost_bookings_list))"
   ]
  },
  {
   "cell_type": "code",
   "execution_count": 117,
   "id": "8eb46ad3-1d5c-4fc7-bbe1-2337e35263b5",
   "metadata": {},
   "outputs": [
    {
     "data": {
      "text/plain": [
       "(119210, 29)"
      ]
     },
     "execution_count": 117,
     "metadata": {},
     "output_type": "execute_result"
    }
   ],
   "source": [
    "#in this index list, we have to index of the rows where the sumn of guest is 0 (ghost bookings), the list lenght is 180\n",
    "#this means there are 180 lines with no guest so we are going to delete them\n",
    "\n",
    "dataframe.drop(dataframe.index[ghost_bookings_list], inplace=True)\n",
    "dataframe.shape"
   ]
  },
  {
   "cell_type": "code",
   "execution_count": 118,
   "id": "da3d9493-e3fa-43d8-abba-2ca73c38fcf8",
   "metadata": {},
   "outputs": [],
   "source": [
    "#The shape is now 119210 instead 119390, a difference of 180 rows, which is the lenght of our list with ghost bookings\n",
    "#now we have the data clean. Now lets simply do a couple of visualization to get to know better our data"
   ]
  },
  {
   "cell_type": "code",
   "execution_count": 119,
   "id": "54e0467c-b483-48a1-8d56-539d6f20451b",
   "metadata": {},
   "outputs": [
    {
     "data": {
      "image/png": "[encoded data removed]",
      "text/plain": [
       "<Figure size 1000x600 with 1 Axes>"
      ]
     },
     "metadata": {},
     "output_type": "display_data"
    }
   ],
   "source": [
    "\n",
    "cancelations_count = dataframe['is_canceled'].value_counts()\n",
    "\n",
    "plt.figure(figsize=(10, 6))\n",
    "plt.bar(cancelations_count.index.astype(str), cancelations_count.values, width=0.4, color=['#4CAF50', '#F44336'], edgecolor='black')\n",
    "plt.xlabel('Cancelation', fontsize=14)\n",
    "plt.ylabel('Bookings number', fontsize=14)\n",
    "plt.title('Number of cancelations (0: Not Canceled, 1: Canceled)', fontsize=16)\n",
    "plt.gca().yaxis.set_major_formatter(ticker.FuncFormatter(lambda x, pos: f'{int(x):,}'))\n",
    "plt.xticks(ticks=cancelations_count.index.astype(str), labels=['Not canceled (0)', 'Canceled (1)'], fontsize=12)\n",
    "plt.grid(axis='y', linestyle='--', alpha=0.7)\n",
    "plt.tight_layout()\n",
    "plt.show()"
   ]
  },
  {
   "cell_type": "code",
   "execution_count": 120,
   "id": "a76db0e2-c416-4dab-97cd-2d9ef52f9697",
   "metadata": {},
   "outputs": [
    {
     "name": "stdout",
     "output_type": "stream",
     "text": [
      "The cancelation rate is:  37.08  % \n"
     ]
    }
   ],
   "source": [
    "print(\"The cancelation rate is: \", round(cancelations_count[1]/cancelations_count.sum(),4)*100, \" % \")"
   ]
  },
  {
   "cell_type": "code",
   "execution_count": 121,
   "id": "d200dd79-69b1-4969-8449-f8fccb670208",
   "metadata": {},
   "outputs": [
    {
     "name": "stdout",
     "output_type": "stream",
     "text": [
      "    country  Total Bookings  Total Cancelations  % Cancelations\n",
      "135     PRT           48961             27563.0           56.30\n",
      "59      GBR           12120              2452.0           20.23\n",
      "56      FRA           10401              1933.0           18.58\n",
      "51      ESP            8560              2177.0           25.43\n",
      "43      DEU            7285              1218.0           16.72\n",
      "81      ITA            3761              1333.0           35.44\n",
      "76      IRL            3374               832.0           24.66\n",
      "15      BEL            2342               474.0           20.24\n",
      "25      BRA            2222               830.0           37.35\n",
      "123     NLD            2103               387.0           18.40\n",
      "169     USA            2093               501.0           23.94\n",
      "29      CHE            1726               428.0           24.80\n",
      "34       CN            1279               254.0           19.86\n",
      "12      AUT            1263               230.0           18.21\n",
      "154     SWE            1020               227.0           22.25\n",
      "31      CHN             999               462.0           46.25\n",
      "133     POL             918               215.0           23.42\n",
      "80      ISR             669               169.0           25.26\n",
      "140     RUS             630               239.0           37.94\n",
      "124     NOR             607               181.0           29.82\n",
      "139     ROU             500               134.0           26.80\n",
      "54      FIN             446                69.0           15.47\n",
      "46      DNK             435               109.0           25.06\n",
      "11      AUS             426               107.0           25.12\n",
      "1       AGO             362               205.0           56.63\n",
      "100     LUX             286               109.0           38.11\n",
      "103     MAR             259               109.0           42.08\n",
      "162     TUR             248               102.0           41.13\n",
      "72      HUN             230                77.0           33.48\n",
      "6       ARG             214                54.0           25.23\n",
      "85      JPN             197                28.0           14.21\n",
      "42      CZE             171                37.0           21.64\n",
      "75      IND             151                35.0           23.18\n",
      "91      KOR             133                55.0           41.35\n",
      "66      GRC             128                35.0           27.34\n",
      "48      DZA             103                21.0           20.39\n",
      "149     SRB             101                 3.0            2.97\n",
      "71      HRV             100                25.0           25.00\n",
      "107     MEX              85                10.0           11.76\n",
      "52      EST              83                18.0           21.69\n",
      "77      IRN              82                23.0           28.05\n",
      "99      LTU              81                 7.0            8.64\n",
      "174     ZAF              80                31.0           38.75\n",
      "19      BGR              75                12.0           16.00\n",
      "126     NZL              74                 6.0            8.11\n",
      "35      COL              71                23.0           32.39\n",
      "166     UKR              68                20.0           29.41\n",
      "113     MOZ              67                19.0           28.36\n",
      "152     SVK              65                24.0           36.92\n",
      "30      CHL              65                16.0           24.62\n",
      "158     THA              59                18.0           30.51\n",
      "79      ISL              57                 4.0            7.02\n",
      "153     SVN              56                15.0           26.79\n",
      "101     LVA              55                 9.0           16.36\n",
      "5       ARE              51                43.0           84.31\n",
      "163     TWN              51                14.0           27.45\n",
      "41      CYP              51                11.0           21.57\n",
      "142     SAU              48                33.0           68.75\n",
      "131     PHL              40                25.0           62.50\n",
      "161     TUN              39                19.0           48.72\n",
      "145     SGP              38                16.0           42.11\n",
      "73      IDN              35                24.0           68.57\n",
      "121     NGA              34                21.0           61.76\n",
      "168     URY              32                 9.0           28.12\n",
      "50      EGY              32                11.0           34.38\n",
      "94      LBN              31                 9.0           29.03\n",
      "69      HKG              29                26.0           89.66\n",
      "130     PER              29                 6.0           20.69\n",
      "117     MYS              28                 3.0           10.71\n",
      "49      ECU              27                 8.0           29.63\n",
      "171     VEN              26                12.0           46.15\n",
      "23      BLR              26                 9.0           34.62\n",
      "37      CPV              24                12.0           50.00\n",
      "60      GEO              22                15.0           68.18\n",
      "84      JOR              21                 3.0           14.29\n",
      "38      CRI              19                 1.0            5.26\n",
      "86      KAZ              19                 5.0           26.32\n",
      "63      GIB              18                11.0           61.11\n",
      "127     OMN              18                 4.0           22.22\n",
      "110     MLT              18                 5.0           27.78\n",
      "13      AZE              17                 9.0           52.94\n",
      "102     MAC              16                15.0           93.75\n",
      "92      KWT              16                 6.0           37.50\n",
      "138     QAT              15                11.0           73.33\n",
      "78      IRQ              14                 0.0            0.00\n",
      "128     PAK              14                 9.0           64.29\n",
      "47      DOM              14                 8.0           57.14\n",
      "22      BIH              13                 3.0           23.08\n",
      "106     MDV              12                 9.0           75.00\n",
      "18      BGD              12                 9.0           75.00\n",
      "134     PRI              12                 2.0           16.67\n",
      "3       ALB              12                 2.0           16.67\n",
      "144     SEN              11                 8.0           72.73\n",
      "108     MKD              10                 2.0           20.00\n",
      "24      BOL              10                 0.0            0.00\n",
      "33      CMR              10                 0.0            0.00\n",
      "159     TJK               9                 8.0           88.89\n",
      "129     PAN               9                 0.0            0.00\n",
      "65      GNB               9                 1.0           11.11\n",
      "39      CUB               8                 0.0            0.00\n",
      "83      JEY               8                 8.0          100.00\n",
      "7       ARM               8                 2.0           25.00\n",
      "173     VNM               8                 2.0           25.00\n",
      "95      LBY               8                 0.0            0.00\n",
      "98      LKA               7                 0.0            0.00\n",
      "4       AND               7                 5.0           71.43\n",
      "115     MUS               7                 1.0           14.29\n",
      "82      JAM               6                 0.0            0.00\n",
      "87      KEN               6                 2.0           33.33\n",
      "32      CIV               6                 2.0           33.33\n",
      "164     TZA               5                 3.0           60.00\n",
      "28      CAF               5                 0.0            0.00\n",
      "151     SUR               5                 0.0            0.00\n",
      "20      BHR               5                 4.0           80.00\n",
      "57      FRO               5                 4.0           80.00\n",
      "112     MNE               5                 2.0           40.00\n",
      "176     ZWE               4                 2.0           50.00\n",
      "62      GHA               4                 2.0           50.00\n",
      "67      GTM               4                 0.0            0.00\n",
      "170     UZB               4                 2.0           50.00\n",
      "26      BRB               4                 0.0            0.00\n",
      "58      GAB               4                 2.0           50.00\n",
      "136     PRY               4                 0.0            0.00\n",
      "104     MCO               4                 1.0           25.00\n",
      "156     SYR               3                 0.0            0.00\n",
      "160     TMP               3                 1.0           33.33\n",
      "61      GGY               3                 3.0          100.00\n",
      "53      ETH               3                 1.0           33.33\n",
      "97      LIE               3                 1.0           33.33\n",
      "16      BEN               3                 3.0          100.00\n",
      "157     TGO               2                 0.0            0.00\n",
      "141     RWA               2                 0.0            0.00\n",
      "150     STP               2                 0.0            0.00\n",
      "155     SYC               2                 1.0           50.00\n",
      "165     UGA               2                 0.0            0.00\n",
      "175     ZMB               2                 1.0           50.00\n",
      "147     SLV               2                 0.0            0.00\n",
      "0       ABW               2                 0.0            0.00\n",
      "74      IMN               2                 2.0          100.00\n",
      "116     MWI               2                 0.0            0.00\n",
      "9       ATA               2                 0.0            0.00\n",
      "36      COM               2                 0.0            0.00\n",
      "64      GLP               2                 2.0          100.00\n",
      "90      KNA               2                 0.0            0.00\n",
      "93      LAO               2                 0.0            0.00\n",
      "88      KHM               2                 2.0          100.00\n",
      "118     MYT               2                 2.0          100.00\n",
      "146     SLE               1                 0.0            0.00\n",
      "45      DMA               1                 0.0            0.00\n",
      "2       AIA               1                 0.0            0.00\n",
      "8       ASM               1                 0.0            0.00\n",
      "125     NPL               1                 0.0            0.00\n",
      "172     VGB               1                 1.0          100.00\n",
      "10      ATF               1                 0.0            0.00\n",
      "14      BDI               1                 0.0            0.00\n",
      "17      BFA               1                 0.0            0.00\n",
      "21      BHS               1                 0.0            0.00\n",
      "167     UMI               1                 1.0          100.00\n",
      "27      BWA               1                 0.0            0.00\n",
      "122     NIC               1                 1.0          100.00\n",
      "40      CYM               1                 0.0            0.00\n",
      "44      DJI               1                 0.0            0.00\n",
      "55      FJI               1                 1.0          100.00\n",
      "120     NCL               1                 0.0            0.00\n",
      "68      GUY               1                 0.0            0.00\n",
      "70      HND               1                 1.0          100.00\n",
      "132     PLW               1                 0.0            0.00\n",
      "89      KIR               1                 0.0            0.00\n",
      "143     SDN               1                 0.0            0.00\n",
      "119     NAM               1                 0.0            0.00\n",
      "96      LCA               1                 0.0            0.00\n",
      "105     MDG               1                 0.0            0.00\n",
      "109     MLI               1                 0.0            0.00\n",
      "111     MMR               1                 0.0            0.00\n",
      "114     MRT               1                 0.0            0.00\n",
      "148     SMR               1                 0.0            0.00\n",
      "137     PYF               1                 0.0            0.00\n"
     ]
    }
   ],
   "source": [
    "#let's build a vision with the a table with the countries of the person who did the reservation. We sort it frm countries with the biggest number of \n",
    "# bookings to the lowest. Also a column with the cancelations among those bookings and last column with the % of cancelation of that country\n",
    "total_bookings = dataframe['country'].value_counts()\n",
    "total_cancelations = dataframe[dataframe['is_canceled'] == 1]['country'].value_counts()\n",
    "result_df = pd.DataFrame({\n",
    "    'Total Bookings': total_bookings,\n",
    "    'Total Cancelations': total_cancelations\n",
    "}).fillna(0)  \n",
    "result_df['% Cancelations'] = round((result_df['Total Cancelations'] / result_df['Total Bookings']) * 100,2)\n",
    "result_df.reset_index(inplace=True)\n",
    "result_df.rename(columns={'index': 'Country'}, inplace=True)\n",
    "result_df = result_df.sort_values(by='Total Bookings', ascending=False)\n",
    "print(result_df)"
   ]
  },
  {
   "cell_type": "code",
   "execution_count": 122,
   "id": "68d99f10-1132-4181-a81e-72aeefc1b043",
   "metadata": {},
   "outputs": [],
   "source": [
    "#we can see how Portugal has a significant bigger ratio cancellation, also is the country which has the most bookings\n",
    "#since the study is done in bookings for reservations done in hotels which are in Portugal, the following model could be biased \n",
    "# when trying to apply to any hotel of any part of the world, since the weight of the nationality Portugal is so big here, which could be\n",
    "# much smaller for bookings of hotels of other countries"
   ]
  },
  {
   "cell_type": "code",
   "execution_count": 123,
   "id": "06da9983-41ca-42c7-9c86-9e2d996a8a93",
   "metadata": {},
   "outputs": [],
   "source": [
    "# After this very brief data presentation, we are done with the pre-processing and data cleaning. From this line onwards\n",
    "#### we start with the machine learning model ####"
   ]
  },
  {
   "cell_type": "code",
   "execution_count": 124,
   "id": "e84c6d05-2976-44bf-a92e-55143e7b59c0",
   "metadata": {},
   "outputs": [],
   "source": [
    "#we are going to use the decission tree model\n",
    "# First, we need to have all our columns as datatype, as we saw at the overview in the beginning, we have some columns which are \n",
    "# object type. We need to convert this categories into a numerical code. \n",
    "# To do so we have two options: Label encdoing and One hot encoding.\n",
    "# Label encoding would not work so weel here, since the categories of our \"object type\" columns are independent. Therefore we will use One hot encoder\n",
    "# which is a better option for cases where the categories are independent. The downside is that one hot encoding makes the size of the dataset much bigger"
   ]
  },
  {
   "cell_type": "code",
   "execution_count": 125,
   "id": "566bc802-6a4f-4240-9bc0-0105c33d988a",
   "metadata": {},
   "outputs": [
    {
     "name": "stdout",
     "output_type": "stream",
     "text": [
      "Index(['hotel', 'arrival_date_month', 'meal', 'country', 'market_segment',\n",
      "       'distribution_channel', 'reserved_room_type', 'assigned_room_type',\n",
      "       'deposit_type', 'customer_type'],\n",
      "      dtype='object')\n"
     ]
    }
   ],
   "source": [
    "# Lets see which columns need to be codified:\n",
    "non_numeric_dtypes = dataframe.select_dtypes(include=['object']).dtypes\n",
    "print(non_numeric_dtypes.index)"
   ]
  },
  {
   "cell_type": "code",
   "execution_count": 126,
   "id": "f240515d-52df-4aaa-894f-1649a318ecac",
   "metadata": {},
   "outputs": [
    {
     "name": "stdout",
     "output_type": "stream",
     "text": [
      "[ 7  8  9 10 11 12  1  2  3  4  5  6]\n"
     ]
    }
   ],
   "source": [
    "#THe month of arrival is in text type, lets convert it to number\n",
    "meses_dict = {\n",
    "    'January': 1,\n",
    "    'February': 2,\n",
    "    'March': 3,\n",
    "    'April': 4,\n",
    "    'May': 5,\n",
    "    'June': 6,\n",
    "    'July': 7,\n",
    "    'August': 8,\n",
    "    'September': 9,\n",
    "    'October': 10,\n",
    "    'November': 11,\n",
    "    'December': 12\n",
    "}\n",
    "dataframe['arrival_date_month'] = dataframe['arrival_date_month'].map(meses_dict)\n",
    "print(dataframe['arrival_date_month'].unique())"
   ]
  },
  {
   "cell_type": "code",
   "execution_count": 127,
   "id": "62728be9-36fa-486a-9c81-98358559477f",
   "metadata": {},
   "outputs": [
    {
     "name": "stdout",
     "output_type": "stream",
     "text": [
      "Index(['hotel', 'meal', 'country', 'market_segment', 'distribution_channel',\n",
      "       'reserved_room_type', 'assigned_room_type', 'deposit_type',\n",
      "       'customer_type'],\n",
      "      dtype='object')\n"
     ]
    }
   ],
   "source": [
    "# Lets see which columns need to be codified:\n",
    "non_numeric_dtypes = dataframe.select_dtypes(include=['object']).dtypes\n",
    "print(non_numeric_dtypes.index)"
   ]
  },
  {
   "cell_type": "code",
   "execution_count": 128,
   "id": "3183523c-ac93-469e-9b56-7e0e052b0148",
   "metadata": {},
   "outputs": [
    {
     "name": "stdout",
     "output_type": "stream",
     "text": [
      "{'Column': [], 'Unique Values': []}\n",
      "                 Column                                      Unique Values\n",
      "0                 hotel                         [Resort Hotel, City Hotel]\n",
      "1                  meal                        [BB, FB, HB, SC, Undefined]\n",
      "2               country  [PRT, GBR, USA, ESP, IRL, FRA, ROU, NOR, OMN, ...\n",
      "3        market_segment  [Direct, Corporate, Online TA, Offline TA/TO, ...\n",
      "4  distribution_channel         [Direct, Corporate, TA/TO, Undefined, GDS]\n",
      "5    reserved_room_type                        [C, A, D, E, G, F, H, L, B]\n",
      "6    assigned_room_type                  [C, A, D, E, G, F, I, B, H, L, K]\n",
      "7          deposit_type               [No Deposit, Refundable, Non Refund]\n",
      "8         customer_type      [Transient, Contract, Transient-Party, Group]\n",
      "['hotel', 'meal', 'country', 'market_segment', 'distribution_channel', 'reserved_room_type', 'assigned_room_type', 'deposit_type', 'customer_type']\n"
     ]
    }
   ],
   "source": [
    "#the categories of the features above have are not related so we will use a one hot encoder (this will make the size of our matrix much bigger)\n",
    "unique_values = {\n",
    "    'Column': [],\n",
    "    'Unique Values': []\n",
    "}\n",
    "print(unique_values)\n",
    "for col in non_numeric_dtypes.index:\n",
    "    unique_values['Column'].append(col)\n",
    "    unique_values['Unique Values'].append(dataframe[col].unique())\n",
    "\n",
    "unique_df = pd.DataFrame(unique_values)\n",
    "print(unique_df)\n",
    "columns_onehot = list(unique_df['Column'])\n",
    "print(columns_onehot)\n",
    "df_encoded_one_hot = pd.get_dummies(dataframe, columns=columns_onehot, drop_first=False)"
   ]
  },
  {
   "cell_type": "code",
   "execution_count": 129,
   "id": "6462d4ae-badd-490a-8d80-eabfc08e1018",
   "metadata": {},
   "outputs": [
    {
     "data": {
      "text/plain": [
       "177"
      ]
     },
     "execution_count": 129,
     "metadata": {},
     "output_type": "execute_result"
    }
   ],
   "source": [
    "dataframe['country'].nunique()"
   ]
  },
  {
   "cell_type": "code",
   "execution_count": 130,
   "id": "fe5c3cf1-e5a6-44bc-9c16-9489e67c1b9c",
   "metadata": {},
   "outputs": [
    {
     "data": {
      "text/plain": [
       "array(['PRT', 'GBR', 'USA', 'ESP', 'IRL', 'FRA', 'ROU', 'NOR', 'OMN',\n",
       "       'ARG', 'POL', 'DEU', 'BEL', 'CHE', 'CN', 'GRC', 'ITA', 'NLD',\n",
       "       'DNK', 'RUS', 'SWE', 'AUS', 'EST', 'CZE', 'BRA', 'FIN', 'MOZ',\n",
       "       'BWA', 'LUX', 'SVN', 'ALB', 'IND', 'CHN', 'MEX', 'MAR', 'UKR',\n",
       "       'SMR', 'LVA', 'PRI', 'SRB', 'CHL', 'AUT', 'BLR', 'LTU', 'TUR',\n",
       "       'ZAF', 'AGO', 'ISR', 'CYM', 'ZMB', 'CPV', 'ZWE', 'DZA', 'KOR',\n",
       "       'CRI', 'HUN', 'ARE', 'TUN', 'JAM', 'HRV', 'HKG', 'IRN', 'GEO',\n",
       "       'AND', 'GIB', 'URY', 'JEY', 'CAF', 'CYP', 'COL', 'GGY', 'KWT',\n",
       "       'NGA', 'MDV', 'VEN', 'SVK', 'FJI', 'KAZ', 'PAK', 'IDN', 'LBN',\n",
       "       'PHL', 'SEN', 'SYC', 'AZE', 'BHR', 'NZL', 'THA', 'DOM', 'MKD',\n",
       "       'MYS', 'ARM', 'JPN', 'LKA', 'CUB', 'CMR', 'BIH', 'MUS', 'COM',\n",
       "       'SUR', 'UGA', 'BGR', 'CIV', 'JOR', 'SYR', 'SGP', 'BDI', 'SAU',\n",
       "       'VNM', 'PLW', 'QAT', 'EGY', 'PER', 'MLT', 'MWI', 'ECU', 'MDG',\n",
       "       'ISL', 'UZB', 'NPL', 'BHS', 'MAC', 'TGO', 'TWN', 'DJI', 'STP',\n",
       "       'KNA', 'ETH', 'IRQ', 'HND', 'RWA', 'KHM', 'MCO', 'BGD', 'IMN',\n",
       "       'TJK', 'NIC', 'BEN', 'VGB', 'TZA', 'GAB', 'GHA', 'TMP', 'GLP',\n",
       "       'KEN', 'LIE', 'GNB', 'MNE', 'UMI', 'MYT', 'FRO', 'MMR', 'PAN',\n",
       "       'BFA', 'LBY', 'MLI', 'NAM', 'BOL', 'PRY', 'BRB', 'ABW', 'AIA',\n",
       "       'SLV', 'DMA', 'PYF', 'GUY', 'LCA', 'ATA', 'GTM', 'ASM', 'MRT',\n",
       "       'NCL', 'KIR', 'SDN', 'ATF', 'SLE', 'LAO'], dtype=object)"
      ]
     },
     "execution_count": 130,
     "metadata": {},
     "output_type": "execute_result"
    }
   ],
   "source": [
    "dataframe['country'].unique()"
   ]
  },
  {
   "cell_type": "code",
   "execution_count": 131,
   "id": "66b44ee7-102a-41ca-84a7-5c309ba0ef1a",
   "metadata": {},
   "outputs": [],
   "source": [
    "#We see that country has 177 unique values, whis would mean that we would get extra 177 columns with one hot encoder. So we are \n",
    "#going to group the values intro EU and Non_EU and then we will do the one hot encoder\n",
    "\n",
    "eu_country_codes = [\n",
    "    'AUT', 'BEL', 'BGR', 'HRV', 'CYP', 'CZE', 'DNK', 'EST', 'FRA',\n",
    "    'DEU', 'GRC', 'HUN', 'IRL', 'ITA', 'LVA', 'LTU', 'LUX', 'HUN',\n",
    "    'MLT', 'NLD', 'POL', 'PRT', 'ROU', 'SVN', 'SWE', 'SVK','ESP'\n",
    "]\n",
    "dataframe['Country_cluster'] = dataframe['country'].apply(lambda x: 'UE' if x in eu_country_codes else 'No_UE')\n"
   ]
  },
  {
   "cell_type": "code",
   "execution_count": 132,
   "id": "35aa6a63-3f4c-4854-affd-f1f0cf273716",
   "metadata": {},
   "outputs": [
    {
     "name": "stdout",
     "output_type": "stream",
     "text": [
      "Index(['hotel', 'meal', 'country', 'market_segment', 'distribution_channel',\n",
      "       'reserved_room_type', 'assigned_room_type', 'deposit_type',\n",
      "       'customer_type', 'Country_cluster'],\n",
      "      dtype='object')\n"
     ]
    }
   ],
   "source": [
    "# Lets see again which columns need to be codified:\n",
    "non_numeric_dtypes = dataframe.select_dtypes(include=['object']).dtypes\n",
    "print(non_numeric_dtypes.index)"
   ]
  },
  {
   "cell_type": "code",
   "execution_count": 133,
   "id": "a4f04298-d832-44d5-b2e8-7a72e3ee116b",
   "metadata": {},
   "outputs": [
    {
     "data": {
      "text/plain": [
       "(119210, 29)"
      ]
     },
     "execution_count": 133,
     "metadata": {},
     "output_type": "execute_result"
    }
   ],
   "source": [
    "#we have now the column country and country cluster. We can drop the column country since we will use for the encoder country cluster\n",
    "dataframe.drop(['country'], axis=1, inplace=True)\n",
    "dataframe.shape"
   ]
  },
  {
   "cell_type": "code",
   "execution_count": 134,
   "id": "12866b49-b0b8-46c9-84a3-6867f25d13bd",
   "metadata": {},
   "outputs": [
    {
     "name": "stdout",
     "output_type": "stream",
     "text": [
      "Index(['hotel', 'meal', 'market_segment', 'distribution_channel',\n",
      "       'reserved_room_type', 'assigned_room_type', 'deposit_type',\n",
      "       'customer_type', 'Country_cluster'],\n",
      "      dtype='object')\n"
     ]
    }
   ],
   "source": [
    "# Lets see again which columns need to be codified, we should not have \"country\"\n",
    "non_numeric_dtypes = dataframe.select_dtypes(include=['object']).dtypes\n",
    "print(non_numeric_dtypes.index)"
   ]
  },
  {
   "cell_type": "code",
   "execution_count": 135,
   "id": "28fb4ef4-37ef-4237-9985-24c62b4a4747",
   "metadata": {},
   "outputs": [
    {
     "data": {
      "text/plain": [
       "(119210, 69)"
      ]
     },
     "execution_count": 135,
     "metadata": {},
     "output_type": "execute_result"
    }
   ],
   "source": [
    "#Now we apply the one hot encodig\n",
    "columns_to_encode = list(non_numeric_dtypes.index)\n",
    "dataframe_encoded = pd.get_dummies(dataframe, columns=columns_to_encode, drop_first=False)\n",
    "# with the one hot encoding we increasie the size of our matrix\n",
    "dataframe_encoded.shape"
   ]
  },
  {
   "cell_type": "code",
   "execution_count": 136,
   "id": "7ce82214-c350-4a38-a451-6eaa8489a0ab",
   "metadata": {},
   "outputs": [
    {
     "data": {
      "text/html": [
       "<div>\n",
       "<style scoped>\n",
       "    .dataframe tbody tr th:only-of-type {\n",
       "        vertical-align: middle;\n",
       "    }\n",
       "\n",
       "    .dataframe tbody tr th {\n",
       "        vertical-align: top;\n",
       "    }\n",
       "\n",
       "    .dataframe thead th {\n",
       "        text-align: right;\n",
       "    }\n",
       "</style>\n",
       "<table border=\"1\" class=\"dataframe\">\n",
       "  <thead>\n",
       "    <tr style=\"text-align: right;\">\n",
       "      <th></th>\n",
       "      <th>is_canceled</th>\n",
       "      <th>lead_time</th>\n",
       "      <th>arrival_date_year</th>\n",
       "      <th>arrival_date_month</th>\n",
       "      <th>arrival_date_week_number</th>\n",
       "      <th>arrival_date_day_of_month</th>\n",
       "      <th>stays_in_weekend_nights</th>\n",
       "      <th>stays_in_week_nights</th>\n",
       "      <th>adults</th>\n",
       "      <th>children</th>\n",
       "      <th>babies</th>\n",
       "      <th>is_repeated_guest</th>\n",
       "      <th>previous_cancellations</th>\n",
       "      <th>previous_bookings_not_canceled</th>\n",
       "      <th>booking_changes</th>\n",
       "      <th>agent</th>\n",
       "      <th>days_in_waiting_list</th>\n",
       "      <th>adr</th>\n",
       "      <th>required_car_parking_spaces</th>\n",
       "      <th>total_of_special_requests</th>\n",
       "      <th>hotel_City Hotel</th>\n",
       "      <th>hotel_Resort Hotel</th>\n",
       "      <th>meal_BB</th>\n",
       "      <th>meal_FB</th>\n",
       "      <th>meal_HB</th>\n",
       "      <th>meal_SC</th>\n",
       "      <th>meal_Undefined</th>\n",
       "      <th>market_segment_Aviation</th>\n",
       "      <th>market_segment_Complementary</th>\n",
       "      <th>market_segment_Corporate</th>\n",
       "      <th>market_segment_Direct</th>\n",
       "      <th>market_segment_Groups</th>\n",
       "      <th>market_segment_Offline TA/TO</th>\n",
       "      <th>market_segment_Online TA</th>\n",
       "      <th>market_segment_Undefined</th>\n",
       "      <th>distribution_channel_Corporate</th>\n",
       "      <th>distribution_channel_Direct</th>\n",
       "      <th>distribution_channel_GDS</th>\n",
       "      <th>distribution_channel_TA/TO</th>\n",
       "      <th>distribution_channel_Undefined</th>\n",
       "      <th>reserved_room_type_A</th>\n",
       "      <th>reserved_room_type_B</th>\n",
       "      <th>reserved_room_type_C</th>\n",
       "      <th>reserved_room_type_D</th>\n",
       "      <th>reserved_room_type_E</th>\n",
       "      <th>reserved_room_type_F</th>\n",
       "      <th>reserved_room_type_G</th>\n",
       "      <th>reserved_room_type_H</th>\n",
       "      <th>reserved_room_type_L</th>\n",
       "      <th>assigned_room_type_A</th>\n",
       "      <th>assigned_room_type_B</th>\n",
       "      <th>assigned_room_type_C</th>\n",
       "      <th>assigned_room_type_D</th>\n",
       "      <th>assigned_room_type_E</th>\n",
       "      <th>assigned_room_type_F</th>\n",
       "      <th>assigned_room_type_G</th>\n",
       "      <th>assigned_room_type_H</th>\n",
       "      <th>assigned_room_type_I</th>\n",
       "      <th>assigned_room_type_K</th>\n",
       "      <th>assigned_room_type_L</th>\n",
       "      <th>deposit_type_No Deposit</th>\n",
       "      <th>deposit_type_Non Refund</th>\n",
       "      <th>deposit_type_Refundable</th>\n",
       "      <th>customer_type_Contract</th>\n",
       "      <th>customer_type_Group</th>\n",
       "      <th>customer_type_Transient</th>\n",
       "      <th>customer_type_Transient-Party</th>\n",
       "      <th>Country_cluster_No_UE</th>\n",
       "      <th>Country_cluster_UE</th>\n",
       "    </tr>\n",
       "  </thead>\n",
       "  <tbody>\n",
       "    <tr>\n",
       "      <th>0</th>\n",
       "      <td>0</td>\n",
       "      <td>342</td>\n",
       "      <td>2015</td>\n",
       "      <td>7</td>\n",
       "      <td>27</td>\n",
       "      <td>1</td>\n",
       "      <td>0</td>\n",
       "      <td>0</td>\n",
       "      <td>2</td>\n",
       "      <td>0.0</td>\n",
       "      <td>0</td>\n",
       "      <td>0</td>\n",
       "      <td>0</td>\n",
       "      <td>0</td>\n",
       "      <td>3</td>\n",
       "      <td>NaN</td>\n",
       "      <td>0</td>\n",
       "      <td>0.0</td>\n",
       "      <td>0</td>\n",
       "      <td>0</td>\n",
       "      <td>False</td>\n",
       "      <td>True</td>\n",
       "      <td>True</td>\n",
       "      <td>False</td>\n",
       "      <td>False</td>\n",
       "      <td>False</td>\n",
       "      <td>False</td>\n",
       "      <td>False</td>\n",
       "      <td>False</td>\n",
       "      <td>False</td>\n",
       "      <td>True</td>\n",
       "      <td>False</td>\n",
       "      <td>False</td>\n",
       "      <td>False</td>\n",
       "      <td>False</td>\n",
       "      <td>False</td>\n",
       "      <td>True</td>\n",
       "      <td>False</td>\n",
       "      <td>False</td>\n",
       "      <td>False</td>\n",
       "      <td>False</td>\n",
       "      <td>False</td>\n",
       "      <td>True</td>\n",
       "      <td>False</td>\n",
       "      <td>False</td>\n",
       "      <td>False</td>\n",
       "      <td>False</td>\n",
       "      <td>False</td>\n",
       "      <td>False</td>\n",
       "      <td>False</td>\n",
       "      <td>False</td>\n",
       "      <td>True</td>\n",
       "      <td>False</td>\n",
       "      <td>False</td>\n",
       "      <td>False</td>\n",
       "      <td>False</td>\n",
       "      <td>False</td>\n",
       "      <td>False</td>\n",
       "      <td>False</td>\n",
       "      <td>False</td>\n",
       "      <td>True</td>\n",
       "      <td>False</td>\n",
       "      <td>False</td>\n",
       "      <td>False</td>\n",
       "      <td>False</td>\n",
       "      <td>True</td>\n",
       "      <td>False</td>\n",
       "      <td>False</td>\n",
       "      <td>True</td>\n",
       "    </tr>\n",
       "    <tr>\n",
       "      <th>1</th>\n",
       "      <td>0</td>\n",
       "      <td>737</td>\n",
       "      <td>2015</td>\n",
       "      <td>7</td>\n",
       "      <td>27</td>\n",
       "      <td>1</td>\n",
       "      <td>0</td>\n",
       "      <td>0</td>\n",
       "      <td>2</td>\n",
       "      <td>0.0</td>\n",
       "      <td>0</td>\n",
       "      <td>0</td>\n",
       "      <td>0</td>\n",
       "      <td>0</td>\n",
       "      <td>4</td>\n",
       "      <td>NaN</td>\n",
       "      <td>0</td>\n",
       "      <td>0.0</td>\n",
       "      <td>0</td>\n",
       "      <td>0</td>\n",
       "      <td>False</td>\n",
       "      <td>True</td>\n",
       "      <td>True</td>\n",
       "      <td>False</td>\n",
       "      <td>False</td>\n",
       "      <td>False</td>\n",
       "      <td>False</td>\n",
       "      <td>False</td>\n",
       "      <td>False</td>\n",
       "      <td>False</td>\n",
       "      <td>True</td>\n",
       "      <td>False</td>\n",
       "      <td>False</td>\n",
       "      <td>False</td>\n",
       "      <td>False</td>\n",
       "      <td>False</td>\n",
       "      <td>True</td>\n",
       "      <td>False</td>\n",
       "      <td>False</td>\n",
       "      <td>False</td>\n",
       "      <td>False</td>\n",
       "      <td>False</td>\n",
       "      <td>True</td>\n",
       "      <td>False</td>\n",
       "      <td>False</td>\n",
       "      <td>False</td>\n",
       "      <td>False</td>\n",
       "      <td>False</td>\n",
       "      <td>False</td>\n",
       "      <td>False</td>\n",
       "      <td>False</td>\n",
       "      <td>True</td>\n",
       "      <td>False</td>\n",
       "      <td>False</td>\n",
       "      <td>False</td>\n",
       "      <td>False</td>\n",
       "      <td>False</td>\n",
       "      <td>False</td>\n",
       "      <td>False</td>\n",
       "      <td>False</td>\n",
       "      <td>True</td>\n",
       "      <td>False</td>\n",
       "      <td>False</td>\n",
       "      <td>False</td>\n",
       "      <td>False</td>\n",
       "      <td>True</td>\n",
       "      <td>False</td>\n",
       "      <td>False</td>\n",
       "      <td>True</td>\n",
       "    </tr>\n",
       "    <tr>\n",
       "      <th>2</th>\n",
       "      <td>0</td>\n",
       "      <td>7</td>\n",
       "      <td>2015</td>\n",
       "      <td>7</td>\n",
       "      <td>27</td>\n",
       "      <td>1</td>\n",
       "      <td>0</td>\n",
       "      <td>1</td>\n",
       "      <td>1</td>\n",
       "      <td>0.0</td>\n",
       "      <td>0</td>\n",
       "      <td>0</td>\n",
       "      <td>0</td>\n",
       "      <td>0</td>\n",
       "      <td>0</td>\n",
       "      <td>NaN</td>\n",
       "      <td>0</td>\n",
       "      <td>75.0</td>\n",
       "      <td>0</td>\n",
       "      <td>0</td>\n",
       "      <td>False</td>\n",
       "      <td>True</td>\n",
       "      <td>True</td>\n",
       "      <td>False</td>\n",
       "      <td>False</td>\n",
       "      <td>False</td>\n",
       "      <td>False</td>\n",
       "      <td>False</td>\n",
       "      <td>False</td>\n",
       "      <td>False</td>\n",
       "      <td>True</td>\n",
       "      <td>False</td>\n",
       "      <td>False</td>\n",
       "      <td>False</td>\n",
       "      <td>False</td>\n",
       "      <td>False</td>\n",
       "      <td>True</td>\n",
       "      <td>False</td>\n",
       "      <td>False</td>\n",
       "      <td>False</td>\n",
       "      <td>True</td>\n",
       "      <td>False</td>\n",
       "      <td>False</td>\n",
       "      <td>False</td>\n",
       "      <td>False</td>\n",
       "      <td>False</td>\n",
       "      <td>False</td>\n",
       "      <td>False</td>\n",
       "      <td>False</td>\n",
       "      <td>False</td>\n",
       "      <td>False</td>\n",
       "      <td>True</td>\n",
       "      <td>False</td>\n",
       "      <td>False</td>\n",
       "      <td>False</td>\n",
       "      <td>False</td>\n",
       "      <td>False</td>\n",
       "      <td>False</td>\n",
       "      <td>False</td>\n",
       "      <td>False</td>\n",
       "      <td>True</td>\n",
       "      <td>False</td>\n",
       "      <td>False</td>\n",
       "      <td>False</td>\n",
       "      <td>False</td>\n",
       "      <td>True</td>\n",
       "      <td>False</td>\n",
       "      <td>True</td>\n",
       "      <td>False</td>\n",
       "    </tr>\n",
       "    <tr>\n",
       "      <th>3</th>\n",
       "      <td>0</td>\n",
       "      <td>13</td>\n",
       "      <td>2015</td>\n",
       "      <td>7</td>\n",
       "      <td>27</td>\n",
       "      <td>1</td>\n",
       "      <td>0</td>\n",
       "      <td>1</td>\n",
       "      <td>1</td>\n",
       "      <td>0.0</td>\n",
       "      <td>0</td>\n",
       "      <td>0</td>\n",
       "      <td>0</td>\n",
       "      <td>0</td>\n",
       "      <td>0</td>\n",
       "      <td>304.0</td>\n",
       "      <td>0</td>\n",
       "      <td>75.0</td>\n",
       "      <td>0</td>\n",
       "      <td>0</td>\n",
       "      <td>False</td>\n",
       "      <td>True</td>\n",
       "      <td>True</td>\n",
       "      <td>False</td>\n",
       "      <td>False</td>\n",
       "      <td>False</td>\n",
       "      <td>False</td>\n",
       "      <td>False</td>\n",
       "      <td>False</td>\n",
       "      <td>True</td>\n",
       "      <td>False</td>\n",
       "      <td>False</td>\n",
       "      <td>False</td>\n",
       "      <td>False</td>\n",
       "      <td>False</td>\n",
       "      <td>True</td>\n",
       "      <td>False</td>\n",
       "      <td>False</td>\n",
       "      <td>False</td>\n",
       "      <td>False</td>\n",
       "      <td>True</td>\n",
       "      <td>False</td>\n",
       "      <td>False</td>\n",
       "      <td>False</td>\n",
       "      <td>False</td>\n",
       "      <td>False</td>\n",
       "      <td>False</td>\n",
       "      <td>False</td>\n",
       "      <td>False</td>\n",
       "      <td>True</td>\n",
       "      <td>False</td>\n",
       "      <td>False</td>\n",
       "      <td>False</td>\n",
       "      <td>False</td>\n",
       "      <td>False</td>\n",
       "      <td>False</td>\n",
       "      <td>False</td>\n",
       "      <td>False</td>\n",
       "      <td>False</td>\n",
       "      <td>False</td>\n",
       "      <td>True</td>\n",
       "      <td>False</td>\n",
       "      <td>False</td>\n",
       "      <td>False</td>\n",
       "      <td>False</td>\n",
       "      <td>True</td>\n",
       "      <td>False</td>\n",
       "      <td>True</td>\n",
       "      <td>False</td>\n",
       "    </tr>\n",
       "    <tr>\n",
       "      <th>4</th>\n",
       "      <td>0</td>\n",
       "      <td>14</td>\n",
       "      <td>2015</td>\n",
       "      <td>7</td>\n",
       "      <td>27</td>\n",
       "      <td>1</td>\n",
       "      <td>0</td>\n",
       "      <td>2</td>\n",
       "      <td>2</td>\n",
       "      <td>0.0</td>\n",
       "      <td>0</td>\n",
       "      <td>0</td>\n",
       "      <td>0</td>\n",
       "      <td>0</td>\n",
       "      <td>0</td>\n",
       "      <td>240.0</td>\n",
       "      <td>0</td>\n",
       "      <td>98.0</td>\n",
       "      <td>0</td>\n",
       "      <td>1</td>\n",
       "      <td>False</td>\n",
       "      <td>True</td>\n",
       "      <td>True</td>\n",
       "      <td>False</td>\n",
       "      <td>False</td>\n",
       "      <td>False</td>\n",
       "      <td>False</td>\n",
       "      <td>False</td>\n",
       "      <td>False</td>\n",
       "      <td>False</td>\n",
       "      <td>False</td>\n",
       "      <td>False</td>\n",
       "      <td>False</td>\n",
       "      <td>True</td>\n",
       "      <td>False</td>\n",
       "      <td>False</td>\n",
       "      <td>False</td>\n",
       "      <td>False</td>\n",
       "      <td>True</td>\n",
       "      <td>False</td>\n",
       "      <td>True</td>\n",
       "      <td>False</td>\n",
       "      <td>False</td>\n",
       "      <td>False</td>\n",
       "      <td>False</td>\n",
       "      <td>False</td>\n",
       "      <td>False</td>\n",
       "      <td>False</td>\n",
       "      <td>False</td>\n",
       "      <td>True</td>\n",
       "      <td>False</td>\n",
       "      <td>False</td>\n",
       "      <td>False</td>\n",
       "      <td>False</td>\n",
       "      <td>False</td>\n",
       "      <td>False</td>\n",
       "      <td>False</td>\n",
       "      <td>False</td>\n",
       "      <td>False</td>\n",
       "      <td>False</td>\n",
       "      <td>True</td>\n",
       "      <td>False</td>\n",
       "      <td>False</td>\n",
       "      <td>False</td>\n",
       "      <td>False</td>\n",
       "      <td>True</td>\n",
       "      <td>False</td>\n",
       "      <td>True</td>\n",
       "      <td>False</td>\n",
       "    </tr>\n",
       "  </tbody>\n",
       "</table>\n",
       "</div>"
      ],
      "text/plain": [
       "   is_canceled  lead_time  arrival_date_year  arrival_date_month  \\\n",
       "0            0        342               2015                   7   \n",
       "1            0        737               2015                   7   \n",
       "2            0          7               2015                   7   \n",
       "3            0         13               2015                   7   \n",
       "4            0         14               2015                   7   \n",
       "\n",
       "   arrival_date_week_number  arrival_date_day_of_month  \\\n",
       "0                        27                          1   \n",
       "1                        27                          1   \n",
       "2                        27                          1   \n",
       "3                        27                          1   \n",
       "4                        27                          1   \n",
       "\n",
       "   stays_in_weekend_nights  stays_in_week_nights  adults  children  babies  \\\n",
       "0                        0                     0       2       0.0       0   \n",
       "1                        0                     0       2       0.0       0   \n",
       "2                        0                     1       1       0.0       0   \n",
       "3                        0                     1       1       0.0       0   \n",
       "4                        0                     2       2       0.0       0   \n",
       "\n",
       "   is_repeated_guest  previous_cancellations  previous_bookings_not_canceled  \\\n",
       "0                  0                       0                               0   \n",
       "1                  0                       0                               0   \n",
       "2                  0                       0                               0   \n",
       "3                  0                       0                               0   \n",
       "4                  0                       0                               0   \n",
       "\n",
       "   booking_changes  agent  days_in_waiting_list   adr  \\\n",
       "0                3    NaN                     0   0.0   \n",
       "1                4    NaN                     0   0.0   \n",
       "2                0    NaN                     0  75.0   \n",
       "3                0  304.0                     0  75.0   \n",
       "4                0  240.0                     0  98.0   \n",
       "\n",
       "   required_car_parking_spaces  total_of_special_requests  hotel_City Hotel  \\\n",
       "0                            0                          0             False   \n",
       "1                            0                          0             False   \n",
       "2                            0                          0             False   \n",
       "3                            0                          0             False   \n",
       "4                            0                          1             False   \n",
       "\n",
       "   hotel_Resort Hotel  meal_BB  meal_FB  meal_HB  meal_SC  meal_Undefined  \\\n",
       "0                True     True    False    False    False           False   \n",
       "1                True     True    False    False    False           False   \n",
       "2                True     True    False    False    False           False   \n",
       "3                True     True    False    False    False           False   \n",
       "4                True     True    False    False    False           False   \n",
       "\n",
       "   market_segment_Aviation  market_segment_Complementary  \\\n",
       "0                    False                         False   \n",
       "1                    False                         False   \n",
       "2                    False                         False   \n",
       "3                    False                         False   \n",
       "4                    False                         False   \n",
       "\n",
       "   market_segment_Corporate  market_segment_Direct  market_segment_Groups  \\\n",
       "0                     False                   True                  False   \n",
       "1                     False                   True                  False   \n",
       "2                     False                   True                  False   \n",
       "3                      True                  False                  False   \n",
       "4                     False                  False                  False   \n",
       "\n",
       "   market_segment_Offline TA/TO  market_segment_Online TA  \\\n",
       "0                         False                     False   \n",
       "1                         False                     False   \n",
       "2                         False                     False   \n",
       "3                         False                     False   \n",
       "4                         False                      True   \n",
       "\n",
       "   market_segment_Undefined  distribution_channel_Corporate  \\\n",
       "0                     False                           False   \n",
       "1                     False                           False   \n",
       "2                     False                           False   \n",
       "3                     False                            True   \n",
       "4                     False                           False   \n",
       "\n",
       "   distribution_channel_Direct  distribution_channel_GDS  \\\n",
       "0                         True                     False   \n",
       "1                         True                     False   \n",
       "2                         True                     False   \n",
       "3                        False                     False   \n",
       "4                        False                     False   \n",
       "\n",
       "   distribution_channel_TA/TO  distribution_channel_Undefined  \\\n",
       "0                       False                           False   \n",
       "1                       False                           False   \n",
       "2                       False                           False   \n",
       "3                       False                           False   \n",
       "4                        True                           False   \n",
       "\n",
       "   reserved_room_type_A  reserved_room_type_B  reserved_room_type_C  \\\n",
       "0                 False                 False                  True   \n",
       "1                 False                 False                  True   \n",
       "2                  True                 False                 False   \n",
       "3                  True                 False                 False   \n",
       "4                  True                 False                 False   \n",
       "\n",
       "   reserved_room_type_D  reserved_room_type_E  reserved_room_type_F  \\\n",
       "0                 False                 False                 False   \n",
       "1                 False                 False                 False   \n",
       "2                 False                 False                 False   \n",
       "3                 False                 False                 False   \n",
       "4                 False                 False                 False   \n",
       "\n",
       "   reserved_room_type_G  reserved_room_type_H  reserved_room_type_L  \\\n",
       "0                 False                 False                 False   \n",
       "1                 False                 False                 False   \n",
       "2                 False                 False                 False   \n",
       "3                 False                 False                 False   \n",
       "4                 False                 False                 False   \n",
       "\n",
       "   assigned_room_type_A  assigned_room_type_B  assigned_room_type_C  \\\n",
       "0                 False                 False                  True   \n",
       "1                 False                 False                  True   \n",
       "2                 False                 False                  True   \n",
       "3                  True                 False                 False   \n",
       "4                  True                 False                 False   \n",
       "\n",
       "   assigned_room_type_D  assigned_room_type_E  assigned_room_type_F  \\\n",
       "0                 False                 False                 False   \n",
       "1                 False                 False                 False   \n",
       "2                 False                 False                 False   \n",
       "3                 False                 False                 False   \n",
       "4                 False                 False                 False   \n",
       "\n",
       "   assigned_room_type_G  assigned_room_type_H  assigned_room_type_I  \\\n",
       "0                 False                 False                 False   \n",
       "1                 False                 False                 False   \n",
       "2                 False                 False                 False   \n",
       "3                 False                 False                 False   \n",
       "4                 False                 False                 False   \n",
       "\n",
       "   assigned_room_type_K  assigned_room_type_L  deposit_type_No Deposit  \\\n",
       "0                 False                 False                     True   \n",
       "1                 False                 False                     True   \n",
       "2                 False                 False                     True   \n",
       "3                 False                 False                     True   \n",
       "4                 False                 False                     True   \n",
       "\n",
       "   deposit_type_Non Refund  deposit_type_Refundable  customer_type_Contract  \\\n",
       "0                    False                    False                   False   \n",
       "1                    False                    False                   False   \n",
       "2                    False                    False                   False   \n",
       "3                    False                    False                   False   \n",
       "4                    False                    False                   False   \n",
       "\n",
       "   customer_type_Group  customer_type_Transient  \\\n",
       "0                False                     True   \n",
       "1                False                     True   \n",
       "2                False                     True   \n",
       "3                False                     True   \n",
       "4                False                     True   \n",
       "\n",
       "   customer_type_Transient-Party  Country_cluster_No_UE  Country_cluster_UE  \n",
       "0                          False                  False                True  \n",
       "1                          False                  False                True  \n",
       "2                          False                   True               False  \n",
       "3                          False                   True               False  \n",
       "4                          False                   True               False  "
      ]
     },
     "execution_count": 136,
     "metadata": {},
     "output_type": "execute_result"
    }
   ],
   "source": [
    "# Now we have 69 columns instead of 29, as we could expect.\n",
    "# lets have a quick overview of our new dataframe\n",
    "dataframe_encoded.head(5)"
   ]
  },
  {
   "cell_type": "code",
   "execution_count": 137,
   "id": "19a565fc-0b38-4102-b8c7-a55ca46b7f98",
   "metadata": {},
   "outputs": [],
   "source": [
    "#the columns which were objects are nor True / Flase (0/1) for each value of the feature, which is what we were looking for"
   ]
  },
  {
   "cell_type": "code",
   "execution_count": 138,
   "id": "2791d31d-cd97-4a3d-808f-d5b941b5bcc5",
   "metadata": {},
   "outputs": [],
   "source": [
    "# Now we set what is going to be our target column (what we want to predict). Our goal is \"is_canceled\"\n",
    "X = dataframe_encoded.drop(columns=['is_canceled']) # X is our train set, which is all the data except out target \n",
    "y = dataframe_encoded['is_canceled'] # Y is our target column 'is_canceled' (this is the column we want to predict)"
   ]
  },
  {
   "cell_type": "code",
   "execution_count": 139,
   "id": "da3dec42-f571-4b40-ae2c-24ab8b52a06e",
   "metadata": {},
   "outputs": [],
   "source": [
    "# Now lets split our dataset in training and test dataset. # Normally the standard ratio is 80 train 20 test\n",
    "X_train, X_test, y_train, y_test = train_test_split(X, y, test_size=0.2, random_state=42)"
   ]
  },
  {
   "cell_type": "code",
   "execution_count": 140,
   "id": "eea35bee-d1a2-429b-ab81-24ef6732502e",
   "metadata": {},
   "outputs": [
    {
     "name": "stdout",
     "output_type": "stream",
     "text": [
      "Accuracy on train data: 0.9928906970891703\n"
     ]
    }
   ],
   "source": [
    "#We are going to use RandomForest, since our matrix is big so it would be more convinient than DecissionTree, which is more sensitive\n",
    "# to overfitting\n",
    "model = RandomForestClassifier(n_estimators=100, random_state=42)\n",
    "# Here we train our train data and our target train data\n",
    "model.fit(X_train, y_train)\n",
    "# Now lets do the predictions on the train data and see the score on our train data\n",
    "predictions = model.predict(X_train)\n",
    "# Evaluation of our model on train data:\n",
    "accuracy = model.score(X_train, y_train)\n",
    "print(f'Accuracy on train data: {accuracy}')"
   ]
  },
  {
   "cell_type": "code",
   "execution_count": 141,
   "id": "c2e06172-ae63-40a5-a545-bd17dd12065a",
   "metadata": {},
   "outputs": [],
   "source": [
    "# We see we have a score of 0.99 (maximum is 1). Does this mean our model is almost perfect?\n",
    "# actually not, having a 0.99 means our model has learnt almost perfectly our train data. This means, the model can predict very well with known\n",
    "# data. But what could the model predict with unkown data? To figure it out, we need to run outr model against the test data\n",
    "# that means, the data we have \"hidden\" so it is like \"new\" data for the model and will need to predict based on what the model learnt with the train data."
   ]
  },
  {
   "cell_type": "code",
   "execution_count": 142,
   "id": "9c14b82b-4f71-4c4b-8bad-31120b9fd542",
   "metadata": {},
   "outputs": [
    {
     "name": "stdout",
     "output_type": "stream",
     "text": [
      "Accuracy on test data: 0.8805888767720829\n"
     ]
    }
   ],
   "source": [
    "# lets run the model on test data\n",
    "model = RandomForestClassifier(n_estimators=100, random_state=42)\n",
    "model.fit(X_train, y_train)\n",
    "\n",
    "accuracy = model.score(X_test, y_test)\n",
    "print(f'Accuracy on test data: {accuracy}')"
   ]
  },
  {
   "cell_type": "code",
   "execution_count": 143,
   "id": "5cb112c4-6f00-4ac9-b0cd-bd7e499cae6c",
   "metadata": {},
   "outputs": [],
   "source": [
    "# This is what we could expect, the model is less accurate on the test data because it is \"hidden data\".\n",
    "# 0.88 is still a good score, now lets try to optimize de model"
   ]
  },
  {
   "cell_type": "code",
   "execution_count": 144,
   "id": "3ce58bbe-0e90-4b46-852b-d14dc09572c8",
   "metadata": {},
   "outputs": [
    {
     "name": "stdout",
     "output_type": "stream",
     "text": [
      "Accuracy on scaled test data: 0.8804211056119453\n"
     ]
    }
   ],
   "source": [
    "# First idea: Escale the data. Lets run the model on scaled data and compare with unscaled data. RandomForest is not very sensitive to scalation\n",
    "scaler = StandardScaler()\n",
    "X_train_scaled = scaler.fit_transform(X_train)\n",
    "X_test_scaled = scaler.transform(X_test)\n",
    "\n",
    "model.fit(X_train_scaled, y_train)\n",
    "\n",
    "accuracy_scaled = model.score(X_test_scaled, y_test)\n",
    "print(f'Accuracy on scaled test data: {accuracy_scaled}')\n"
   ]
  },
  {
   "cell_type": "code",
   "execution_count": 145,
   "id": "de3f33f8-7b84-4299-9541-fe2e5226f267",
   "metadata": {},
   "outputs": [],
   "source": [
    "#As we can see our model it is pretty much the same with scaled data"
   ]
  },
  {
   "cell_type": "code",
   "execution_count": 148,
   "id": "f9ada770-6e45-4c69-afed-2d3f3c220504",
   "metadata": {},
   "outputs": [
    {
     "name": "stdout",
     "output_type": "stream",
     "text": [
      "\n",
      "Here the columns by importance                            Feature  Importance\n",
      "0                        lead_time    0.131384\n",
      "16                             adr    0.081981\n",
      "60         deposit_type_Non Refund    0.075955\n",
      "59         deposit_type_No Deposit    0.071770\n",
      "4        arrival_date_day_of_month    0.062112\n",
      "18       total_of_special_requests    0.059465\n",
      "3         arrival_date_week_number    0.055928\n",
      "14                           agent    0.048907\n",
      "6             stays_in_week_nights    0.040926\n",
      "11          previous_cancellations    0.035560\n",
      "2               arrival_date_month    0.034330\n",
      "5          stays_in_weekend_nights    0.025342\n",
      "13                 booking_changes    0.020584\n",
      "17     required_car_parking_spaces    0.020070\n",
      "1                arrival_date_year    0.020028\n",
      "32        market_segment_Online TA    0.016173\n",
      "48            assigned_room_type_A    0.014648\n",
      "64         customer_type_Transient    0.014510\n",
      "7                           adults    0.013816\n",
      "65   customer_type_Transient-Party    0.012695\n",
      "66           Country_cluster_No_UE    0.012074\n",
      "67              Country_cluster_UE    0.011932\n",
      "31    market_segment_Offline TA/TO    0.011678\n",
      "30           market_segment_Groups    0.010873\n",
      "37      distribution_channel_TA/TO    0.008202\n",
      "39            reserved_room_type_A    0.006654\n",
      "21                         meal_BB    0.006479\n",
      "8                         children    0.006091\n",
      "51            assigned_room_type_D    0.005979\n",
      "19                hotel_City Hotel    0.005541\n",
      "20              hotel_Resort Hotel    0.005258\n",
      "23                         meal_HB    0.004921\n",
      "42            reserved_room_type_D    0.004463\n",
      "12  previous_bookings_not_canceled    0.003820\n",
      "35     distribution_channel_Direct    0.003691\n",
      "29           market_segment_Direct    0.003432\n",
      "24                         meal_SC    0.003257\n",
      "52            assigned_room_type_E    0.002635\n",
      "15            days_in_waiting_list    0.002490\n",
      "43            reserved_room_type_E    0.002257\n",
      "34  distribution_channel_Corporate    0.001894\n",
      "10               is_repeated_guest    0.001868\n",
      "53            assigned_room_type_F    0.001766\n",
      "62          customer_type_Contract    0.001762\n",
      "49            assigned_room_type_B    0.001599\n",
      "50            assigned_room_type_C    0.001334\n",
      "28        market_segment_Corporate    0.001293\n",
      "45            reserved_room_type_G    0.001165\n",
      "44            reserved_room_type_F    0.001165\n",
      "22                         meal_FB    0.001105\n",
      "54            assigned_room_type_G    0.001095\n",
      "25                  meal_Undefined    0.001049\n",
      "9                           babies    0.000940\n",
      "40            reserved_room_type_B    0.000874\n",
      "41            reserved_room_type_C    0.000643\n",
      "55            assigned_room_type_H    0.000408\n",
      "63             customer_type_Group    0.000336\n",
      "46            reserved_room_type_H    0.000330\n",
      "27    market_segment_Complementary    0.000304\n",
      "56            assigned_room_type_I    0.000273\n",
      "36        distribution_channel_GDS    0.000222\n",
      "61         deposit_type_Refundable    0.000215\n",
      "57            assigned_room_type_K    0.000191\n",
      "26         market_segment_Aviation    0.000189\n",
      "38  distribution_channel_Undefined    0.000035\n",
      "47            reserved_room_type_L    0.000019\n",
      "33        market_segment_Undefined    0.000011\n",
      "58            assigned_room_type_L    0.000006\n",
      "Columns to take out ['market_segment_Online TA', 'assigned_room_type_A', 'customer_type_Transient', 'adults', 'customer_type_Transient-Party', 'Country_cluster_No_UE', 'Country_cluster_UE', 'market_segment_Offline TA/TO', 'market_segment_Groups', 'distribution_channel_TA/TO', 'reserved_room_type_A', 'meal_BB', 'children', 'assigned_room_type_D', 'hotel_City Hotel', 'hotel_Resort Hotel', 'meal_HB', 'reserved_room_type_D', 'previous_bookings_not_canceled', 'distribution_channel_Direct', 'market_segment_Direct', 'meal_SC', 'assigned_room_type_E', 'days_in_waiting_list', 'reserved_room_type_E', 'distribution_channel_Corporate', 'is_repeated_guest', 'assigned_room_type_F', 'customer_type_Contract', 'assigned_room_type_B', 'assigned_room_type_C', 'market_segment_Corporate', 'reserved_room_type_G', 'reserved_room_type_F', 'meal_FB', 'assigned_room_type_G', 'meal_Undefined', 'babies', 'reserved_room_type_B', 'reserved_room_type_C', 'assigned_room_type_H', 'customer_type_Group', 'reserved_room_type_H', 'market_segment_Complementary', 'assigned_room_type_I', 'distribution_channel_GDS', 'deposit_type_Refundable', 'assigned_room_type_K', 'market_segment_Aviation', 'distribution_channel_Undefined', 'reserved_room_type_L', 'market_segment_Undefined', 'assigned_room_type_L']\n",
      "\n"
     ]
    }
   ],
   "source": [
    "# Second idea: Lets try with the \"Importance feature\" system. Here we try to get rid of colummns which are not important to make \n",
    "# our dataset simpler and get rid of \"useless\" columns\n",
    "# we run it on the non-scaled data, since the scaling did not improve the score\n",
    "feature_importance = model.fit(X_train, y_train).feature_importances_\n",
    "\n",
    "#We sort the importance bigger to smaller to have a quick look\n",
    "feature_importances = pd.DataFrame({\n",
    "    'Feature': X.columns,\n",
    "    'Importance': feature_importance\n",
    "}).sort_values(by='Importance', ascending=False)\n",
    "#We set a threshold (limit of what is not important)\n",
    "threshold = 0.02\n",
    "#The not important columns (smaller than the threshold), are taken out\n",
    "columns_drop = feature_importances[feature_importances['Importance'] < threshold]['Feature'].tolist()\n",
    "dataframe_encoded.drop(columns=columns_drop, inplace=True)\n",
    "\n",
    "dataframe_after_columnsimportance = dataframe_encoded\n",
    "\n",
    "print()\n",
    "print(\"Here the columns by importance\", feature_importances )\n",
    "print(\"Columns to take out\", columns_drop )\n",
    "print()"
   ]
  },
  {
   "cell_type": "code",
   "execution_count": 147,
   "id": "f184e5fd-0d50-473e-860d-eaabf413d83a",
   "metadata": {},
   "outputs": [],
   "source": [
    "# # We have set as a treshold 2%, this means all columns frm the bottom which in cumulative make up the last 2% are taken out, since they are not important\n",
    "# # Lets see the shape of out new datafra without the useless columns\n"
   ]
  },
  {
   "cell_type": "code",
   "execution_count": 149,
   "id": "23b25d24-f459-48f4-bc5b-d6d8481fe8b3",
   "metadata": {},
   "outputs": [
    {
     "data": {
      "text/plain": [
       "(119210, 16)"
      ]
     },
     "execution_count": 149,
     "metadata": {},
     "output_type": "execute_result"
    }
   ],
   "source": [
    "dataframe_after_columnsimportance.shape"
   ]
  },
  {
   "cell_type": "code",
   "execution_count": null,
   "id": "1d6e7879-7c0f-49b1-85ac-7ab8ef9ddab1",
   "metadata": {},
   "outputs": [],
   "source": [
    "# Now put matrix has been reduce to only 16 columns. Was then worth the one hot encoding? We had at the beginnig 32 columns,\n",
    "# with one hot encoding was aumented to 69 and now back to 16 (less than at the beginning)\n",
    "# I would say it was worth becuase some columns which came after the one hot encoding stayed like \"assigned_room_type_A\" stayed while other values \n",
    "# of the same columns which were converted to column are out luke assigned_room_L."
   ]
  },
  {
   "cell_type": "code",
   "execution_count": 151,
   "id": "a86ad7dc-80b5-44c7-b0bc-5fbd4059c750",
   "metadata": {},
   "outputs": [
    {
     "name": "stdout",
     "output_type": "stream",
     "text": [
      "Accuracy on new train data: 0.8681738109219025\n"
     ]
    }
   ],
   "source": [
    "#Now lets run our RandomForest with the reduce data and see if we have optimized it\n",
    "X_new = dataframe_after_columnsimportance.drop(columns=['is_canceled']) # X is our train set, which is all the data except out target \n",
    "y_new = dataframe_after_columnsimportance['is_canceled'] # Y is our target column 'is_canceled' (this is the column we want to predict)\n",
    "X_train_new, X_test_new, y_train_new, y_test_new = train_test_split(X_new, y_new, test_size=0.2, random_state=42)\n",
    "\n",
    "model.fit(X_train_new, y_train_new)\n",
    "accuracy_new = model.score(X_test_new, y_test_new)\n",
    "print(f'Accuracy on new train data: {accuracy_new}')\n"
   ]
  },
  {
   "cell_type": "code",
   "execution_count": 153,
   "id": "a65d6cc6-a409-4408-96c5-aa23efcf2546",
   "metadata": {},
   "outputs": [],
   "source": [
    "#Our model retrieves a smaller score than before the importance columns step, so we were notable to optimize it.\n",
    "#There are other ways to optimizime the model, changing the random forest parameters, using the grid_search option...\n",
    "# bt that won't be part of this analysis. Until here the Random Forest model, with a best score of 0.88 in test data.\n",
    "\n",
    "# I hope you enjoyed! feedback is always welcomed.\n",
    "\n",
    "\n"
   ]
  },
  {
   "cell_type": "code",
   "execution_count": null,
   "id": "57ce6d8d-b4ee-45c0-a7a3-f7365542e721",
   "metadata": {},
   "outputs": [],
   "source": []
  }
 ],
 "metadata": {
  "kernelspec": {
   "display_name": "Python 3 (ipykernel)",
   "language": "python",
   "name": "python3"
  },
  "language_info": {
   "codemirror_mode": {
    "name": "ipython",
    "version": 3
   },
   "file_extension": ".py",
   "mimetype": "text/x-python",
   "name": "python",
   "nbconvert_exporter": "python",
   "pygments_lexer": "ipython3",
   "version": "3.11.7"
  }
 },
 "nbformat": 4,
 "nbformat_minor": 5
}
